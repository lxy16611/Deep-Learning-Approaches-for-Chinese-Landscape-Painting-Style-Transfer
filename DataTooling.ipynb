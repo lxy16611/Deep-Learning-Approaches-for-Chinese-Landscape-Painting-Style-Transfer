{
 "cells": [
  {
   "cell_type": "code",
   "execution_count": 2,
   "id": "23b4ea2c-e05f-40d0-9231-357387e303f3",
   "metadata": {},
   "outputs": [
    {
     "name": "stdout",
     "output_type": "stream",
     "text": [
      "已将前 200 张图片复制到 /Users/xaoyuli/Downloads/DL2025_final_project-main/database/temp/train_B\n",
      "已将接下来的 20 张图片复制到 /Users/xaoyuli/Downloads/DL2025_final_project-main/database/temp/test_B\n"
     ]
    }
   ],
   "source": [
    "import os\n",
    "import shutil\n",
    "\n",
    "# 指定源文件夹路径\n",
    "#Smithsonian 300 Princeton 200  Harvard 100\n",
    "source_folder = '/Users/xaoyuli/Downloads/DL2025_final_project-main/database/trainB'  # 请替换为实际的源文件夹路径\n",
    "\n",
    "# 指定目标文件夹路径\n",
    "destination_folder = '/Users/xaoyuli/Downloads/DL2025_final_project-main/database/temp/'  # 请替换为实际的目标文件夹路径\n",
    "train_folder = os.path.join(destination_folder, 'train_B')\n",
    "test_folder = os.path.join(destination_folder, 'test_B')\n",
    "\n",
    "# 创建目标文件夹\n",
    "os.makedirs(train_folder, exist_ok=True)\n",
    "os.makedirs(test_folder, exist_ok=True)\n",
    "\n",
    "# 获取源文件夹中所有图片文件的列表，并按文件名排序\n",
    "image_files = sorted([f for f in os.listdir(source_folder) if f.lower().endswith(('png', 'jpg', 'jpeg'))])\n",
    "\n",
    "# 确保有足够的图片文件\n",
    "if len(image_files) < 100:\n",
    "    raise ValueError(\"源文件夹中的图片文件少于 220 张，请检查源文件夹。\")\n",
    "\n",
    "# 复制前 220 张图片\n",
    "for idx, image_file in enumerate(image_files[820:850]):\n",
    "    src_path = os.path.join(source_folder, image_file)\n",
    "    if idx < 0:\n",
    "        dst_path = os.path.join(train_folder, image_file)\n",
    "    else:\n",
    "        dst_path = os.path.join(test_folder, image_file)\n",
    "    shutil.copy2(src_path, dst_path)\n",
    "\n",
    "print(f\"已将前 200 张图片复制到 {train_folder}\")\n",
    "print(f\"已将接下来的 20 张图片复制到 {test_folder}\")"
   ]
  },
  {
   "cell_type": "code",
   "execution_count": 3,
   "id": "068f9595-bcd1-4521-b074-3e8ee2b71e32",
   "metadata": {},
   "outputs": [
    {
     "name": "stderr",
     "output_type": "stream",
     "text": [
      "<>:1: SyntaxWarning: invalid escape sequence '\\ '\n",
      "<>:1: SyntaxWarning: invalid escape sequence '\\ '\n",
      "/var/folders/nh/shtkrp2d769323lyd59bml8r0000gr/T/ipykernel_26871/4151550054.py:1: SyntaxWarning: invalid escape sequence '\\ '\n",
      "  source_folder = '/Users/xaoyuli/Library/CloudStorage/GoogleDrive-xiaoyuli666@gmail.com/My\\ Drive/Colab_Notebooks/img2img-turbo/data/landscape/test_A'  # 请替换为实际的源文件夹路径\n",
      "/var/folders/nh/shtkrp2d769323lyd59bml8r0000gr/T/ipykernel_26871/4151550054.py:1: SyntaxWarning: invalid escape sequence '\\ '\n",
      "  source_folder = '/Users/xaoyuli/Library/CloudStorage/GoogleDrive-xiaoyuli666@gmail.com/My\\ Drive/Colab_Notebooks/img2img-turbo/data/landscape/test_A'  # 请替换为实际的源文件夹路径\n"
     ]
    },
    {
     "ename": "FileNotFoundError",
     "evalue": "[Errno 2] No such file or directory: '/Users/xaoyuli/Library/CloudStorage/GoogleDrive-xiaoyuli666@gmail.com/My\\\\ Drive/Colab_Notebooks/img2img-turbo/data/landscape/test_A'",
     "output_type": "error",
     "traceback": [
      "\u001b[0;31m---------------------------------------------------------------------------\u001b[0m",
      "\u001b[0;31mFileNotFoundError\u001b[0m                         Traceback (most recent call last)",
      "Cell \u001b[0;32mIn[3], line 13\u001b[0m\n\u001b[1;32m     10\u001b[0m os\u001b[38;5;241m.\u001b[39mmakedirs(test_folder, exist_ok\u001b[38;5;241m=\u001b[39m\u001b[38;5;28;01mTrue\u001b[39;00m)\n\u001b[1;32m     12\u001b[0m \u001b[38;5;66;03m# 获取源文件夹中所有图片文件的列表，并按文件名排序\u001b[39;00m\n\u001b[0;32m---> 13\u001b[0m image_files \u001b[38;5;241m=\u001b[39m \u001b[38;5;28msorted\u001b[39m([f \u001b[38;5;28;01mfor\u001b[39;00m f \u001b[38;5;129;01min\u001b[39;00m os\u001b[38;5;241m.\u001b[39mlistdir(source_folder) \u001b[38;5;28;01mif\u001b[39;00m f\u001b[38;5;241m.\u001b[39mlower()\u001b[38;5;241m.\u001b[39mendswith((\u001b[38;5;124m'\u001b[39m\u001b[38;5;124mpng\u001b[39m\u001b[38;5;124m'\u001b[39m, \u001b[38;5;124m'\u001b[39m\u001b[38;5;124mjpg\u001b[39m\u001b[38;5;124m'\u001b[39m, \u001b[38;5;124m'\u001b[39m\u001b[38;5;124mjpeg\u001b[39m\u001b[38;5;124m'\u001b[39m))])\n\u001b[1;32m     15\u001b[0m \u001b[38;5;66;03m# 确保有足够的图片文件\u001b[39;00m\n\u001b[1;32m     16\u001b[0m \u001b[38;5;28;01mif\u001b[39;00m \u001b[38;5;28mlen\u001b[39m(image_files) \u001b[38;5;241m<\u001b[39m \u001b[38;5;241m220\u001b[39m:\n",
      "\u001b[0;31mFileNotFoundError\u001b[0m: [Errno 2] No such file or directory: '/Users/xaoyuli/Library/CloudStorage/GoogleDrive-xiaoyuli666@gmail.com/My\\\\ Drive/Colab_Notebooks/img2img-turbo/data/landscape/test_A'"
     ]
    }
   ],
   "source": [
    "source_folder = '/Users/xaoyuli/Library/CloudStorage/GoogleDrive-xiaoyuli666@gmail.com/My\\ Drive/Colab_Notebooks/img2img-turbo/data/landscape/test_A'  # 请替换为实际的源文件夹路径\n",
    "\n",
    "# 指定目标文件夹路径\n",
    "destination_folder = '/Users/xaoyuli/Downloads/DL2025_final_project-main/database/temp/'  # 请替换为实际的目标文件夹路径\n",
    "\n",
    "test_folder = os.path.join(destination_folder, 'test_A')\n",
    "\n",
    "# 创建目标文件夹\n",
    "os.makedirs(train_folder, exist_ok=True)\n",
    "os.makedirs(test_folder, exist_ok=True)\n",
    "\n",
    "# 获取源文件夹中所有图片文件的列表，并按文件名排序\n",
    "image_files = sorted([f for f in os.listdir(source_folder) if f.lower().endswith(('png', 'jpg', 'jpeg'))])\n",
    "\n",
    "# 确保有足够的图片文件\n",
    "if len(image_files) < 220:\n",
    "    raise ValueError(\"源文件夹中的图片文件少于 220 张，请检查源文件夹。\")\n",
    "\n",
    "# 复制前 220 张图片\n",
    "for idx, image_file in enumerate(image_files[0:33]):\n",
    "    src_path = os.path.join(source_folder, image_file)\n",
    "    if idx < 0:\n",
    "        dst_path = os.path.join(train_folder, image_file)\n",
    "    else:\n",
    "        dst_path = os.path.join(test_folder, image_file)\n",
    "    shutil.copy2(src_path, dst_path)\n",
    "\n",
    "print(f\"已将前 200 张图片复制到 {train_folder}\")\n",
    "print(f\"已将接下来的 20 张图片复制到 {test_folder}\")"
   ]
  },
  {
   "cell_type": "code",
   "execution_count": null,
   "id": "55888a8c-a2e5-49da-a4d6-440b104efcf7",
   "metadata": {},
   "outputs": [],
   "source": []
  }
 ],
 "metadata": {
  "kernelspec": {
   "display_name": "Python 3 (ipykernel)",
   "language": "python",
   "name": "python3"
  },
  "language_info": {
   "codemirror_mode": {
    "name": "ipython",
    "version": 3
   },
   "file_extension": ".py",
   "mimetype": "text/x-python",
   "name": "python",
   "nbconvert_exporter": "python",
   "pygments_lexer": "ipython3",
   "version": "3.12.7"
  }
 },
 "nbformat": 4,
 "nbformat_minor": 5
}
